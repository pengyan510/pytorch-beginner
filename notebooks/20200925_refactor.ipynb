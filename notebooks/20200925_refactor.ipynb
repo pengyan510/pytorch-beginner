{
 "cells": [
  {
   "cell_type": "code",
   "execution_count": 1,
   "metadata": {},
   "outputs": [],
   "source": [
    "# setting\n",
    "from pathlib import Path\n",
    "\n",
    "# load data\n",
    "import pickle\n",
    "import gzip\n",
    "\n",
    "# data prep\n",
    "import torch\n",
    "from torch.utils.data import TensorDataset, DataLoader\n",
    "\n",
    "# modeling\n",
    "import torch.nn as nn\n",
    "import torch.nn.functional as F\n",
    "\n",
    "# training & testing\n",
    "from torch import optim"
   ]
  },
  {
   "cell_type": "code",
   "execution_count": 2,
   "metadata": {},
   "outputs": [],
   "source": [
    "DATA_PATH = Path(\"../data\")\n",
    "PATH = DATA_PATH / \"mnist\" / \"mnist.pkl.gz\""
   ]
  },
  {
   "cell_type": "code",
   "execution_count": 3,
   "metadata": {},
   "outputs": [],
   "source": [
    "with gzip.open((PATH).as_posix(), \"rb\") as f:\n",
    "    ((x_train, y_train), (x_valid, y_valid), _) = pickle.load(f, encoding=\"latin-1\")"
   ]
  },
  {
   "cell_type": "code",
   "execution_count": 4,
   "metadata": {},
   "outputs": [],
   "source": [
    "batch_size=32"
   ]
  },
  {
   "cell_type": "code",
   "execution_count": 5,
   "metadata": {},
   "outputs": [],
   "source": [
    "def x_transform(x):\n",
    "    return x.view(-1, 1, 28, 28)\n",
    "\n",
    "def y_transform(y):\n",
    "    pass"
   ]
  },
  {
   "cell_type": "code",
   "execution_count": 6,
   "metadata": {},
   "outputs": [],
   "source": [
    "class WrappedDataLoader:\n",
    "    \n",
    "    def __transform(self, x, func):\n",
    "        x_transformed = torch.tensor(x)\n",
    "        if func:\n",
    "            x_transformed = func(x_transformed)\n",
    "            \n",
    "        return x_transformed\n",
    "    \n",
    "    def __init__(self, x, y, x_trans=None, y_trans=None, **kwargs):\n",
    "        x_transformed = self.__transform(x, x_trans)\n",
    "        y_transformed = self.__transform(y, y_trans)\n",
    "        self.dl = DataLoader(TensorDataset(x_transformed, y_transformed), **kwargs)\n",
    "        \n",
    "    def __len__(self):\n",
    "        return len(self.dl)\n",
    "    \n",
    "    def __iter__(self):\n",
    "        return iter(self.dl)"
   ]
  },
  {
   "cell_type": "code",
   "execution_count": 7,
   "metadata": {},
   "outputs": [],
   "source": [
    "train_dl = WrappedDataLoader(x_train, y_train, x_transform, batch_size=batch_size, shuffle=True)\n",
    "valid_dl = WrappedDataLoader(x_valid, y_valid, x_transform, batch_size=batch_size * 2)"
   ]
  },
  {
   "cell_type": "code",
   "execution_count": 8,
   "metadata": {},
   "outputs": [],
   "source": [
    "class CNN(nn.Module):\n",
    "    \n",
    "    def __init__(self, in_channel):\n",
    "        super().__init__()\n",
    "        self.conv1 = nn.Conv2d(in_channel, 8, kernel_size=3, stride=1, padding=1)\n",
    "        self.relu = nn.ReLU()\n",
    "        self.maxpool = nn.MaxPool2d(2, 2)\n",
    "        self.conv2 = nn.Conv2d(8, 16, kernel_size=3, stride=1, padding=1)\n",
    "        self.fc1 = nn.Linear(16 * 7 * 7, 128)\n",
    "        self.fc2 = nn.Linear(128, 10)\n",
    "        \n",
    "    def forward(self, x):\n",
    "        x = self.relu(self.conv1(x))\n",
    "        x = self.maxpool(x)\n",
    "        x = self.relu(self.conv2(x))\n",
    "        x = self.maxpool(x)\n",
    "        x = x.view(x.size()[0], -1)\n",
    "        x = self.relu(self.fc1(x))\n",
    "        x = self.fc2(x)\n",
    "        \n",
    "        return x"
   ]
  },
  {
   "cell_type": "code",
   "execution_count": 9,
   "metadata": {},
   "outputs": [],
   "source": [
    "def run_epoch(dl, model, loss_func, opt=None):\n",
    "    total_loss = 0\n",
    "    total_size = 0\n",
    "    cnt_true = 0\n",
    "    for x, y in dl:\n",
    "        y_pred = model(x)\n",
    "        loss = loss_func(y_pred, y)\n",
    "        total_loss += loss * x.size()[0]\n",
    "        total_size += x.size()[0]\n",
    "        cnt_true += torch.sum(torch.argmax(y_pred, dim=1) == y).item()\n",
    "        if opt:\n",
    "            loss.backward()\n",
    "            opt.step()\n",
    "            opt.zero_grad()\n",
    "\n",
    "    return total_loss / total_size, cnt_true / total_size\n",
    "\n",
    "\n",
    "def fit(train_dl, valid_dl, model, loss_func, opt, epochs):\n",
    "    for epoch in range(epochs):\n",
    "        model.train()\n",
    "        train_loss, _ = run_epoch(train_dl, model, loss_func, opt)\n",
    "        \n",
    "        model.eval()\n",
    "        with torch.no_grad():\n",
    "            valid_loss, accuracy = run_epoch(valid_dl, model, loss_func)\n",
    "            \n",
    "        print(f'Epoch {epoch} -  training loss: {train_loss}   validation loss: {valid_loss}   accuracy: {accuracy}')"
   ]
  },
  {
   "cell_type": "code",
   "execution_count": 10,
   "metadata": {},
   "outputs": [],
   "source": [
    "model = CNN(1)\n",
    "loss_func = F.cross_entropy\n",
    "opt = optim.Adam(\n",
    "    model.parameters(),\n",
    "    lr=0.001\n",
    ")"
   ]
  },
  {
   "cell_type": "code",
   "execution_count": 11,
   "metadata": {},
   "outputs": [
    {
     "name": "stdout",
     "output_type": "stream",
     "text": [
      "Epoch 0 -  training loss: 0.253691166639328   validation loss: 0.09074848890304565   accuracy: 0.9734\n",
      "Epoch 1 -  training loss: 0.07913655042648315   validation loss: 0.06637964397668839   accuracy: 0.9809\n",
      "Epoch 2 -  training loss: 0.05328388512134552   validation loss: 0.054564137011766434   accuracy: 0.9839\n",
      "Epoch 3 -  training loss: 0.04223530367016792   validation loss: 0.048925142735242844   accuracy: 0.9857\n",
      "Epoch 4 -  training loss: 0.03290123865008354   validation loss: 0.056081052869558334   accuracy: 0.9833\n",
      "Epoch 5 -  training loss: 0.02563486620783806   validation loss: 0.05559058114886284   accuracy: 0.9849\n",
      "Epoch 6 -  training loss: 0.021003657951951027   validation loss: 0.04349739849567413   accuracy: 0.9882\n",
      "Epoch 7 -  training loss: 0.0171432476490736   validation loss: 0.04357772320508957   accuracy: 0.9885\n",
      "Epoch 8 -  training loss: 0.014722688123583794   validation loss: 0.051204029470682144   accuracy: 0.9873\n",
      "Epoch 9 -  training loss: 0.011063211597502232   validation loss: 0.05173351988196373   accuracy: 0.9884\n"
     ]
    }
   ],
   "source": [
    "fit(train_dl, valid_dl, model, loss_func, opt, 10)"
   ]
  },
  {
   "cell_type": "code",
   "execution_count": null,
   "metadata": {},
   "outputs": [],
   "source": []
  }
 ],
 "metadata": {
  "kernelspec": {
   "display_name": "Python 3",
   "language": "python",
   "name": "python3"
  },
  "language_info": {
   "codemirror_mode": {
    "name": "ipython",
    "version": 3
   },
   "file_extension": ".py",
   "mimetype": "text/x-python",
   "name": "python",
   "nbconvert_exporter": "python",
   "pygments_lexer": "ipython3",
   "version": "3.7.4"
  }
 },
 "nbformat": 4,
 "nbformat_minor": 2
}
